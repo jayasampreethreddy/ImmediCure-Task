{
 "cells": [
  {
   "cell_type": "code",
   "execution_count": 5,
   "metadata": {},
   "outputs": [
    {
     "name": "stdout",
     "output_type": "stream",
     "text": [
      "✅ Medicare dataset: 50000 rows\n",
      "✅ Placidway dataset: 20 rows\n"
     ]
    }
   ],
   "source": [
    "import pandas as pd\n",
    "\n",
    "# Load Medicare Data\n",
    "medicare_df = pd.read_csv(r\"C:\\Users\\konde\\Music\\IMMEDICURE\\ImmediCure-Task\\data\\all_medicare_doctors.csv\")\n",
    "\n",
    "# Load Placidway Data\n",
    "placidway_df = pd.read_csv(r\"C:\\Users\\konde\\Music\\IMMEDICURE\\ImmediCure-Task\\data\\cleaned_placidway_doctors.csv\")  # Change filename as needed\n",
    "\n",
    "print(f\"✅ Medicare dataset: {medicare_df.shape[0]} rows\")\n",
    "print(f\"✅ Placidway dataset: {placidway_df.shape[0]} rows\")\n"
   ]
  },
  {
   "cell_type": "code",
   "execution_count": 6,
   "metadata": {},
   "outputs": [
    {
     "name": "stdout",
     "output_type": "stream",
     "text": [
      "✅ Column names standardized!\n"
     ]
    }
   ],
   "source": [
    "# Rename columns for consistency\n",
    "medicare_df.rename(columns={\n",
    "    \"name\": \"doctor_name\",\n",
    "    \"specialty\": \"specialty\",\n",
    "    \"location\": \"location\",\n",
    "    \"overview\": \"overview\",\n",
    "    \"profile_link\": \"profile_url\"\n",
    "}, inplace=True)\n",
    "\n",
    "placidway_df.rename(columns={\n",
    "    \"Doctor Name\": \"doctor_name\",\n",
    "    \"Specialty\": \"specialty\",\n",
    "    \"Location\": \"location\",\n",
    "    \"Overview\": \"overview\",\n",
    "    \"Profile URL\": \"profile_url\"\n",
    "}, inplace=True)\n",
    "\n",
    "print(\"✅ Column names standardized!\")\n"
   ]
  },
  {
   "cell_type": "code",
   "execution_count": 7,
   "metadata": {},
   "outputs": [
    {
     "name": "stdout",
     "output_type": "stream",
     "text": [
      "✅ Merged dataset: 50020 rows\n"
     ]
    }
   ],
   "source": [
    "# Concatenate both datasets\n",
    "merged_df = pd.concat([medicare_df, placidway_df], ignore_index=True)\n",
    "\n",
    "print(f\"✅ Merged dataset: {merged_df.shape[0]} rows\")\n"
   ]
  },
  {
   "cell_type": "code",
   "execution_count": 8,
   "metadata": {},
   "outputs": [
    {
     "name": "stdout",
     "output_type": "stream",
     "text": [
      "✅ After duplicate removal: 47379 rows\n"
     ]
    }
   ],
   "source": [
    "# Convert doctor names to lowercase for consistency\n",
    "merged_df[\"doctor_name\"] = merged_df[\"doctor_name\"].str.lower().str.strip()\n",
    "\n",
    "# Remove exact duplicates\n",
    "merged_df.drop_duplicates(subset=[\"doctor_name\", \"location\", \"specialty\"], keep=\"first\", inplace=True)\n",
    "\n",
    "print(f\"✅ After duplicate removal: {merged_df.shape[0]} rows\")\n"
   ]
  },
  {
   "cell_type": "code",
   "execution_count": 9,
   "metadata": {},
   "outputs": [
    {
     "name": "stdout",
     "output_type": "stream",
     "text": [
      "✅ After merging specialties: 47368 unique doctor-location pairs\n"
     ]
    }
   ],
   "source": [
    "# Group by doctor name and aggregate specialties\n",
    "merged_df = merged_df.groupby([\"doctor_name\", \"location\"]).agg({\n",
    "    \"specialty\": lambda x: \", \".join(set(x.dropna())),  # Merge unique specialties\n",
    "    \"overview\": lambda x: \" | \".join(set(x.dropna())),  # Merge unique overviews\n",
    "    \"profile_url\": \"first\"  # Keep one profile link\n",
    "}).reset_index()\n",
    "\n",
    "print(f\"✅ After merging specialties: {merged_df.shape[0]} unique doctor-location pairs\")\n"
   ]
  },
  {
   "cell_type": "code",
   "execution_count": 10,
   "metadata": {},
   "outputs": [
    {
     "name": "stdout",
     "output_type": "stream",
     "text": [
      "✅ After cleaning missing values: 47368 doctors\n"
     ]
    }
   ],
   "source": [
    "# Fill missing values\n",
    "merged_df.fillna(\"N/A\", inplace=True)\n",
    "\n",
    "# Remove doctors with no name\n",
    "merged_df = merged_df[merged_df[\"doctor_name\"] != \"N/A\"]\n",
    "\n",
    "print(f\"✅ After cleaning missing values: {merged_df.shape[0]} doctors\")\n"
   ]
  },
  {
   "cell_type": "code",
   "execution_count": 11,
   "metadata": {},
   "outputs": [
    {
     "name": "stdout",
     "output_type": "stream",
     "text": [
      "✅ Final cleaned dataset saved as 'cleaned_doctor_data.csv'\n"
     ]
    }
   ],
   "source": [
    "merged_df.to_csv(\"cleaned_doctor_data.csv\", index=False)\n",
    "print(\"✅ Final cleaned dataset saved as 'cleaned_doctor_data.csv'\")\n"
   ]
  },
  {
   "cell_type": "code",
   "execution_count": null,
   "metadata": {},
   "outputs": [],
   "source": []
  }
 ],
 "metadata": {
  "kernelspec": {
   "display_name": "base",
   "language": "python",
   "name": "python3"
  },
  "language_info": {
   "codemirror_mode": {
    "name": "ipython",
    "version": 3
   },
   "file_extension": ".py",
   "mimetype": "text/x-python",
   "name": "python",
   "nbconvert_exporter": "python",
   "pygments_lexer": "ipython3",
   "version": "3.12.4"
  }
 },
 "nbformat": 4,
 "nbformat_minor": 2
}
