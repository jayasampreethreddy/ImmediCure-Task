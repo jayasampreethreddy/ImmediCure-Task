{
 "cells": [
  {
   "cell_type": "code",
   "execution_count": 13,
   "metadata": {},
   "outputs": [
    {
     "name": "stdout",
     "output_type": "stream",
     "text": [
      "✅ Found Specialties: ['ADDICTION MEDICINE', 'ADVANCED HEART FAILURE AND TRANSPLANT CARDIOLOGY', 'ALLERGY/IMMUNOLOGY', 'ANESTHESIOLOGY', 'ANESTHESIOLOGY ASSISTANT', 'CARDIAC ELECTROPHYSIOLOGY', 'CARDIAC SURGERY', 'CARDIOVASCULAR DISEASE (CARDIOLOGY)', 'CERTIFIED CLINICAL NURSE SPECIALIST (CNS)', 'CERTIFIED NURSE MIDWIFE (CNM)', 'CERTIFIED REGISTERED NURSE ANESTHETIST (CRNA)', 'CHIROPRACTIC', 'CLINICAL PSYCHOLOGIST', 'CLINICAL SOCIAL WORKER', 'COLORECTAL SURGERY (PROCTOLOGY)', 'CRITICAL CARE (INTENSIVISTS)', 'DENTIST', 'DERMATOLOGY', 'DIAGNOSTIC RADIOLOGY', 'EMERGENCY MEDICINE', 'ENDOCRINOLOGY', 'EPILEPTOLOGISTS', 'FAMILY PRACTICE', 'GASTROENTEROLOGY', 'GENERAL PRACTICE', 'GENERAL SURGERY', 'GERIATRIC MEDICINE', 'GERIATRIC PSYCHIATRY', 'GYNECOLOGICAL ONCOLOGY', 'HAND SURGERY', 'HEMATOLOGY', 'HEMATOLOGY/ONCOLOGY', 'HEMATOPOIETIC CELL TRANSPLANTATION AND CELLULAR THERAPY', 'HOSPICE/PALLIATIVE CARE', 'HOSPITALIST', 'INFECTIOUS DISEASE', 'INTERNAL MEDICINE', 'INTERVENTIONAL CARDIOLOGY', 'INTERVENTIONAL PAIN MANAGEMENT', 'INTERVENTIONAL RADIOLOGY', 'MARRIAGE AND FAMILY THERAPIST', 'MAXILLOFACIAL SURGERY', 'MEDICAL GENETICS AND GENOMICS', 'MEDICAL ONCOLOGY', 'MENTAL HEALTH COUNSELOR', 'MICROGRAPHIC DERMATOLOGIC SURGERY (MDS)', 'NEPHROLOGY', 'NEUROLOGY', 'NEUROPSYCHIATRY', 'NEUROSURGERY', 'NUCLEAR MEDICINE', 'NURSE PRACTITIONER', 'OBSTETRICS/GYNECOLOGY', 'OCCUPATIONAL THERAPIST IN PRIVATE PRACTICE', 'OPHTHALMOLOGY', 'OPTOMETRY', 'ORAL SURGERY', 'ORTHOPEDIC SURGERY', 'OSTEOPATHIC MANIPULATIVE MEDICINE', 'OTOLARYNGOLOGY', 'PAIN MANAGEMENT', 'PATHOLOGY', 'PEDIATRIC MEDICINE', 'PERIPHERAL VASCULAR DISEASE', 'PHYSICAL MEDICINE AND REHABILITATION', 'PHYSICAL THERAPIST IN PRIVATE PRACTICE', 'PHYSICIAN ASSISTANT', 'PLASTIC AND RECONSTRUCTIVE SURGERY', 'PODIATRY', 'PREVENTIVE MEDICINE', 'PSYCHIATRY', 'PULMONARY DISEASE', 'QUALIFIED AUDIOLOGIST', 'QUALIFIED SPEECH LANGUAGE PATHOLOGIST', 'RADIATION ONCOLOGY', 'REGISTERED DIETITIAN OR NUTRITION PROFESSIONAL', 'RHEUMATOLOGY', 'SLEEP MEDICINE', 'SPORTS MEDICINE', 'SURGICAL ONCOLOGY', 'THORACIC SURGERY', 'UNDEFINED NON-PHYSICIAN TYPE (SPECIFY)', 'UNDEFINED PHYSICIAN TYPE (SPECIFY)', 'UNDERSEA AND HYPERBARIC MEDICINE', 'UROLOGY', 'VASCULAR SURGERY']\n"
     ]
    }
   ],
   "source": [
    "import pandas as pd\n",
    "\n",
    "# Load the cleaned dataset\n",
    "df = pd.read_csv(r\"C:\\Users\\konde\\Music\\IMMEDICURE\\ImmediCure-Task\\data\\cleaned_doctor_data.csv\")\n",
    "\n",
    "# Display the first few rows\n",
    "\n",
    "\n",
    "# Extract all unique specialties\n",
    "all_specialties = sorted(df[\"specialty\"].dropna().unique())\n",
    "\n",
    "print(\"✅ Found Specialties:\", all_specialties)\n"
   ]
  },
  {
   "cell_type": "code",
   "execution_count": 17,
   "metadata": {},
   "outputs": [
    {
     "name": "stdout",
     "output_type": "stream",
     "text": [
      "['6216 S LEWIS AVE, OK' '11717 HIGHLAND MEADOW DR, TX' '519 BROADWAY, NJ'\n",
      " '7100 E BELLEVIEW AVE, CO' '242 MASON AVE, NY' '256 MASON AVE, NY'\n",
      " '375 SEGUINE AVE, NY' '475 SEAVIEW AVE, NY' '601 W SPRUCE ST, MT'\n",
      " '2203 RANDALL RD, IL']\n"
     ]
    }
   ],
   "source": [
    "def clean_location(location):\n",
    "    \"\"\"Fixes inconsistent location formatting\"\"\"\n",
    "    if pd.isna(location):\n",
    "        return \"Unknown Location\"\n",
    "    \n",
    "    # Remove extra spaces & commas\n",
    "    cleaned_location = \", \".join([part.strip() for part in location.split(\",\") if part.strip()])\n",
    "    \n",
    "    return cleaned_location\n",
    "\n",
    "# Apply to all locations\n",
    "df[\"location\"] = df[\"location\"].apply(clean_location)\n",
    "\n",
    "# Display fixed locations\n",
    "print(df[\"location\"].unique()[:10])"
   ]
  },
  {
   "cell_type": "code",
   "execution_count": 18,
   "metadata": {},
   "outputs": [
    {
     "name": "stdout",
     "output_type": "stream",
     "text": [
      "✅ After merging locations: 26254 unique doctors\n"
     ]
    }
   ],
   "source": [
    "# Group by doctor and combine all unique locations\n",
    "df = df.groupby(\"doctor_name\").agg({\n",
    "    \"specialty\": \"first\",\n",
    "    \"location\": lambda x: \", \".join(set(x.dropna())),  # Merge locations correctly\n",
    "    \"overview\": \"first\",\n",
    "    \"profile_url\": \"first\"\n",
    "}).reset_index()\n",
    "\n",
    "print(f\"✅ After merging locations: {df.shape[0]} unique doctors\")\n"
   ]
  },
  {
   "cell_type": "code",
   "execution_count": 19,
   "metadata": {},
   "outputs": [
    {
     "name": "stdout",
     "output_type": "stream",
     "text": [
      "✅ Final cleaned dataset saved as 'cleaned_doctor_data_fixed.csv'\n"
     ]
    }
   ],
   "source": [
    "df.to_csv(\"cleaned_doctor_data_fixed.csv\", index=False)\n",
    "print(\"✅ Final cleaned dataset saved as 'cleaned_doctor_data_fixed.csv'\")\n"
   ]
  },
  {
   "cell_type": "code",
   "execution_count": null,
   "metadata": {},
   "outputs": [],
   "source": []
  }
 ],
 "metadata": {
  "kernelspec": {
   "display_name": "base",
   "language": "python",
   "name": "python3"
  },
  "language_info": {
   "codemirror_mode": {
    "name": "ipython",
    "version": 3
   },
   "file_extension": ".py",
   "mimetype": "text/x-python",
   "name": "python",
   "nbconvert_exporter": "python",
   "pygments_lexer": "ipython3",
   "version": "3.12.4"
  }
 },
 "nbformat": 4,
 "nbformat_minor": 2
}
