{
 "cells": [
  {
   "cell_type": "code",
   "execution_count": 1,
   "metadata": {},
   "outputs": [
    {
     "name": "stdout",
     "output_type": "stream",
     "text": [
      "Collecting sentence-transformers\n",
      "  Downloading sentence_transformers-3.4.1-py3-none-any.whl.metadata (10 kB)\n",
      "Requirement already satisfied: pandas in c:\\users\\konde\\anaconda3\\lib\\site-packages (2.2.2)\n",
      "Requirement already satisfied: transformers<5.0.0,>=4.41.0 in c:\\users\\konde\\anaconda3\\lib\\site-packages (from sentence-transformers) (4.49.0)\n",
      "Requirement already satisfied: tqdm in c:\\users\\konde\\anaconda3\\lib\\site-packages (from sentence-transformers) (4.66.4)\n",
      "Requirement already satisfied: torch>=1.11.0 in c:\\users\\konde\\anaconda3\\lib\\site-packages (from sentence-transformers) (2.6.0)\n",
      "Requirement already satisfied: scikit-learn in c:\\users\\konde\\anaconda3\\lib\\site-packages (from sentence-transformers) (1.4.2)\n",
      "Requirement already satisfied: scipy in c:\\users\\konde\\anaconda3\\lib\\site-packages (from sentence-transformers) (1.13.1)\n",
      "Requirement already satisfied: huggingface-hub>=0.20.0 in c:\\users\\konde\\anaconda3\\lib\\site-packages (from sentence-transformers) (0.29.1)\n",
      "Requirement already satisfied: Pillow in c:\\users\\konde\\anaconda3\\lib\\site-packages (from sentence-transformers) (10.3.0)\n",
      "Requirement already satisfied: numpy>=1.26.0 in c:\\users\\konde\\anaconda3\\lib\\site-packages (from pandas) (1.26.4)\n",
      "Requirement already satisfied: python-dateutil>=2.8.2 in c:\\users\\konde\\anaconda3\\lib\\site-packages (from pandas) (2.9.0.post0)\n",
      "Requirement already satisfied: pytz>=2020.1 in c:\\users\\konde\\anaconda3\\lib\\site-packages (from pandas) (2024.1)\n",
      "Requirement already satisfied: tzdata>=2022.7 in c:\\users\\konde\\anaconda3\\lib\\site-packages (from pandas) (2023.3)\n",
      "Requirement already satisfied: filelock in c:\\users\\konde\\anaconda3\\lib\\site-packages (from huggingface-hub>=0.20.0->sentence-transformers) (3.13.1)\n",
      "Requirement already satisfied: fsspec>=2023.5.0 in c:\\users\\konde\\anaconda3\\lib\\site-packages (from huggingface-hub>=0.20.0->sentence-transformers) (2024.3.1)\n",
      "Requirement already satisfied: packaging>=20.9 in c:\\users\\konde\\anaconda3\\lib\\site-packages (from huggingface-hub>=0.20.0->sentence-transformers) (23.2)\n",
      "Requirement already satisfied: pyyaml>=5.1 in c:\\users\\konde\\anaconda3\\lib\\site-packages (from huggingface-hub>=0.20.0->sentence-transformers) (6.0.1)\n",
      "Requirement already satisfied: requests in c:\\users\\konde\\anaconda3\\lib\\site-packages (from huggingface-hub>=0.20.0->sentence-transformers) (2.32.2)\n",
      "Requirement already satisfied: typing-extensions>=3.7.4.3 in c:\\users\\konde\\anaconda3\\lib\\site-packages (from huggingface-hub>=0.20.0->sentence-transformers) (4.11.0)\n",
      "Requirement already satisfied: six>=1.5 in c:\\users\\konde\\anaconda3\\lib\\site-packages (from python-dateutil>=2.8.2->pandas) (1.16.0)\n",
      "Requirement already satisfied: networkx in c:\\users\\konde\\anaconda3\\lib\\site-packages (from torch>=1.11.0->sentence-transformers) (3.2.1)\n",
      "Requirement already satisfied: jinja2 in c:\\users\\konde\\anaconda3\\lib\\site-packages (from torch>=1.11.0->sentence-transformers) (3.1.4)\n",
      "Requirement already satisfied: setuptools in c:\\users\\konde\\anaconda3\\lib\\site-packages (from torch>=1.11.0->sentence-transformers) (69.5.1)\n",
      "Requirement already satisfied: sympy==1.13.1 in c:\\users\\konde\\anaconda3\\lib\\site-packages (from torch>=1.11.0->sentence-transformers) (1.13.1)\n",
      "Requirement already satisfied: mpmath<1.4,>=1.1.0 in c:\\users\\konde\\anaconda3\\lib\\site-packages (from sympy==1.13.1->torch>=1.11.0->sentence-transformers) (1.3.0)\n",
      "Requirement already satisfied: colorama in c:\\users\\konde\\anaconda3\\lib\\site-packages (from tqdm->sentence-transformers) (0.4.6)\n",
      "Requirement already satisfied: regex!=2019.12.17 in c:\\users\\konde\\anaconda3\\lib\\site-packages (from transformers<5.0.0,>=4.41.0->sentence-transformers) (2023.10.3)\n",
      "Requirement already satisfied: tokenizers<0.22,>=0.21 in c:\\users\\konde\\anaconda3\\lib\\site-packages (from transformers<5.0.0,>=4.41.0->sentence-transformers) (0.21.0)\n",
      "Requirement already satisfied: safetensors>=0.4.1 in c:\\users\\konde\\anaconda3\\lib\\site-packages (from transformers<5.0.0,>=4.41.0->sentence-transformers) (0.5.2)\n",
      "Requirement already satisfied: joblib>=1.2.0 in c:\\users\\konde\\anaconda3\\lib\\site-packages (from scikit-learn->sentence-transformers) (1.4.2)\n",
      "Requirement already satisfied: threadpoolctl>=2.0.0 in c:\\users\\konde\\anaconda3\\lib\\site-packages (from scikit-learn->sentence-transformers) (2.2.0)\n",
      "Requirement already satisfied: MarkupSafe>=2.0 in c:\\users\\konde\\anaconda3\\lib\\site-packages (from jinja2->torch>=1.11.0->sentence-transformers) (2.1.3)\n",
      "Requirement already satisfied: charset-normalizer<4,>=2 in c:\\users\\konde\\anaconda3\\lib\\site-packages (from requests->huggingface-hub>=0.20.0->sentence-transformers) (2.0.4)\n",
      "Requirement already satisfied: idna<4,>=2.5 in c:\\users\\konde\\anaconda3\\lib\\site-packages (from requests->huggingface-hub>=0.20.0->sentence-transformers) (3.7)\n",
      "Requirement already satisfied: urllib3<3,>=1.21.1 in c:\\users\\konde\\anaconda3\\lib\\site-packages (from requests->huggingface-hub>=0.20.0->sentence-transformers) (2.2.2)\n",
      "Requirement already satisfied: certifi>=2017.4.17 in c:\\users\\konde\\anaconda3\\lib\\site-packages (from requests->huggingface-hub>=0.20.0->sentence-transformers) (2024.7.4)\n",
      "Downloading sentence_transformers-3.4.1-py3-none-any.whl (275 kB)\n",
      "   ---------------------------------------- 0.0/275.9 kB ? eta -:--:--\n",
      "   ---------------------------------------- 0.0/275.9 kB ? eta -:--:--\n",
      "   ---- ----------------------------------- 30.7/275.9 kB ? eta -:--:--\n",
      "   ----- ---------------------------------- 41.0/275.9 kB 1.9 MB/s eta 0:00:01\n",
      "   -------- ------------------------------ 61.4/275.9 kB 544.7 kB/s eta 0:00:01\n",
      "   ------------- ------------------------- 92.2/275.9 kB 581.0 kB/s eta 0:00:01\n",
      "   --------------- ---------------------- 112.6/275.9 kB 547.6 kB/s eta 0:00:01\n",
      "   --------------- ---------------------- 112.6/275.9 kB 547.6 kB/s eta 0:00:01\n",
      "   --------------- ---------------------- 112.6/275.9 kB 547.6 kB/s eta 0:00:01\n",
      "   --------------- ---------------------- 112.6/275.9 kB 547.6 kB/s eta 0:00:01\n",
      "   --------------- ---------------------- 112.6/275.9 kB 547.6 kB/s eta 0:00:01\n",
      "   --------------- ---------------------- 112.6/275.9 kB 547.6 kB/s eta 0:00:01\n",
      "   ---------------- --------------------- 122.9/275.9 kB 248.7 kB/s eta 0:00:01\n",
      "   ---------------- --------------------- 122.9/275.9 kB 248.7 kB/s eta 0:00:01\n",
      "   ---------------- --------------------- 122.9/275.9 kB 248.7 kB/s eta 0:00:01\n",
      "   ---------------- --------------------- 122.9/275.9 kB 248.7 kB/s eta 0:00:01\n",
      "   ---------------- --------------------- 122.9/275.9 kB 248.7 kB/s eta 0:00:01\n",
      "   ---------------- --------------------- 122.9/275.9 kB 248.7 kB/s eta 0:00:01\n",
      "   ---------------- --------------------- 122.9/275.9 kB 248.7 kB/s eta 0:00:01\n",
      "   ---------------- --------------------- 122.9/275.9 kB 248.7 kB/s eta 0:00:01\n",
      "   ---------------- --------------------- 122.9/275.9 kB 248.7 kB/s eta 0:00:01\n",
      "   ---------------------- --------------- 163.8/275.9 kB 172.4 kB/s eta 0:00:01\n",
      "   ----------------------- -------------- 174.1/275.9 kB 177.7 kB/s eta 0:00:01\n",
      "   ------------------------------- ------ 225.3/275.9 kB 218.5 kB/s eta 0:00:01\n",
      "   ------------------------------------ - 266.2/275.9 kB 256.0 kB/s eta 0:00:01\n",
      "   -------------------------------------- 275.9/275.9 kB 257.7 kB/s eta 0:00:00\n",
      "Installing collected packages: sentence-transformers\n",
      "Successfully installed sentence-transformers-3.4.1\n",
      "Note: you may need to restart the kernel to use updated packages.\n"
     ]
    }
   ],
   "source": [
    "pip install sentence-transformers pandas\n"
   ]
  },
  {
   "cell_type": "code",
   "execution_count": 2,
   "metadata": {},
   "outputs": [
    {
     "name": "stdout",
     "output_type": "stream",
     "text": [
      "✅ Found 86 unique specialties!\n"
     ]
    }
   ],
   "source": [
    "import pandas as pd\n",
    "\n",
    "# Load the cleaned doctor dataset\n",
    "df = pd.read_csv(r\"C:\\Users\\konde\\Music\\IMMEDICURE\\ImmediCure-Task\\models\\cleaned_doctor_data_fixed.csv\")\n",
    "\n",
    "# Extract unique specialties from dataset\n",
    "unique_specialties = df[\"specialty\"].dropna().unique().tolist()\n",
    "\n",
    "print(f\"✅ Found {len(unique_specialties)} unique specialties!\")\n"
   ]
  },
  {
   "cell_type": "code",
   "execution_count": 6,
   "metadata": {},
   "outputs": [
    {
     "name": "stdout",
     "output_type": "stream",
     "text": [
      "✅ Found 86 unique specialties!\n"
     ]
    }
   ],
   "source": [
    "from sentence_transformers import SentenceTransformer, util\n",
    "import pandas as pd\n",
    "\n",
    "# Load cleaned doctor dataset\n",
    "df = pd.read_csv(r\"C:\\Users\\konde\\Music\\IMMEDICURE\\ImmediCure-Task\\models\\cleaned_doctor_data_fixed.csv\")\n",
    "\n",
    "# Extract unique specialties from dataset\n",
    "unique_specialties = df[\"specialty\"].dropna().unique().tolist()\n",
    "print(f\"✅ Found {len(unique_specialties)} unique specialties!\")\n",
    "\n",
    "# Load a good AI model for medical text\n",
    "model = SentenceTransformer(\"BAAI/bge-small-en\")\n",
    "\n",
    "# Encode all specialties from the dataset\n",
    "specialty_embeddings = model.encode(unique_specialties, convert_to_tensor=True)\n",
    "\n",
    "def map_symptom_to_specialty(symptom, top_k=3):\n",
    "    \"\"\"Maps a given symptom to the best-matching specialties from the dataset.\"\"\"\n",
    "    symptom_embedding = model.encode(symptom, convert_to_tensor=True)\n",
    "    similarity_scores = util.pytorch_cos_sim(symptom_embedding, specialty_embeddings).squeeze(0)\n",
    "\n",
    "    # Get top-K matches\n",
    "    top_k_indices = similarity_scores.argsort(descending=True)[:top_k]\n",
    "    best_matches = [(unique_specialties[idx], similarity_scores[idx].item()) for idx in top_k_indices]\n",
    "\n",
    "    # Apply confidence threshold (remove low-scoring matches)\n",
    "    best_matches = [match[0] for match in best_matches if match[1] > 0.5]  \n",
    "\n",
    "    return best_matches\n",
    "\n"
   ]
  },
  {
   "cell_type": "code",
   "execution_count": 7,
   "metadata": {},
   "outputs": [
    {
     "name": "stdout",
     "output_type": "stream",
     "text": [
      "['PAIN MANAGEMENT', 'CARDIAC SURGERY', 'CARDIOVASCULAR DISEASE (CARDIOLOGY)']\n",
      "['DERMATOLOGY', 'ALLERGY/IMMUNOLOGY', 'RHEUMATOLOGY']\n",
      "['PSYCHIATRY', 'NEUROPSYCHIATRY', 'PAIN MANAGEMENT']\n",
      "['OPTOMETRY', 'OPHTHALMOLOGY', 'PULMONARY DISEASE']\n"
     ]
    }
   ],
   "source": [
    "print(map_symptom_to_specialty(\"chest pain\"))   # Expected: Cardiology\n",
    "print(map_symptom_to_specialty(\"skin rash\"))    # Expected: Dermatology\n",
    "print(map_symptom_to_specialty(\"anxiety\"))      # Expected: Psychiatry\n",
    "print(map_symptom_to_specialty(\"blurry vision\")) # Expected: Ophthalmology"
   ]
  },
  {
   "cell_type": "code",
   "execution_count": 12,
   "metadata": {},
   "outputs": [],
   "source": [
    "import pandas as pd\n",
    "\n",
    "# Load cleaned doctor dataset\n",
    "df = pd.read_csv(r\"C:\\Users\\konde\\Music\\IMMEDICURE\\ImmediCure-Task\\models\\cleaned_doctor_data_fixed.csv\")\n",
    "\n",
    "def search_doctors(symptom, location=None, top_k=5):\n",
    "    \"\"\"Finds doctors based on AI-mapped specialties and optional location.\"\"\"\n",
    "    \n",
    "    # Step 1: AI Maps symptom to specialties\n",
    "    matched_specialties = map_symptom_to_specialty(symptom, top_k=3)\n",
    "    print(f\"🔍 AI Mapped '{symptom}' → {matched_specialties}\")\n",
    "\n",
    "    # Step 2: Filter doctors by matched specialties\n",
    "    filtered_doctors = df[df[\"specialty\"].isin(matched_specialties)]\n",
    "\n",
    "    # Step 3: Filter by location (if provided)\n",
    "    if location:\n",
    "        filtered_doctors = filtered_doctors[filtered_doctors[\"location\"].str.contains(location, case=False, na=False)]\n",
    "\n",
    "    # Step 4: Return top K results\n",
    "    return filtered_doctors.head(top_k)[[\"doctor_name\", \"specialty\", \"location\", \"profile_url\"]]\n",
    "\n",
    "# Test the search function\n",
    "\n"
   ]
  },
  {
   "cell_type": "code",
   "execution_count": 13,
   "metadata": {},
   "outputs": [
    {
     "name": "stdout",
     "output_type": "stream",
     "text": [
      "🔍 AI Mapped 'chest pain' → ['PAIN MANAGEMENT', 'CARDIAC SURGERY', 'CARDIOVASCULAR DISEASE (CARDIOLOGY)']\n",
      "Empty DataFrame\n",
      "Columns: [doctor_name, specialty, location, profile_url]\n",
      "Index: []\n",
      "🔍 AI Mapped 'skin rash' → ['DERMATOLOGY', 'ALLERGY/IMMUNOLOGY', 'RHEUMATOLOGY']\n",
      "           doctor_name     specialty  \\\n",
      "25      aaron  secrest   DERMATOLOGY   \n",
      "117      abdul b lodhi  RHEUMATOLOGY   \n",
      "157    abigail c wills   DERMATOLOGY   \n",
      "204          adam  mor  RHEUMATOLOGY   \n",
      "260  adam scott barron  RHEUMATOLOGY   \n",
      "\n",
      "                                              location  \\\n",
      "25   1200 COLLEGE DR, WY, 50 N MEDICAL DR, UT, 247 ...   \n",
      "117            1600 BUDINGER AVE, FL, 801 W OAK ST, FL   \n",
      "157                                    1215 LEE ST, VA   \n",
      "204                                 622 W 168TH ST, NY   \n",
      "260                           5155 CORPORATE WAY C, FL   \n",
      "\n",
      "                                           profile_url  \n",
      "25   https://www.medicare.gov/care-compare/details/...  \n",
      "117  https://www.medicare.gov/care-compare/details/...  \n",
      "157  https://www.medicare.gov/care-compare/details/...  \n",
      "204  https://www.medicare.gov/care-compare/details/...  \n",
      "260  https://www.medicare.gov/care-compare/details/...  \n"
     ]
    }
   ],
   "source": [
    "print(search_doctors(\"chest pain\", location=\"New York\"))  # Example with location\n",
    "print(search_doctors(\"skin rash\"))  # Example without location"
   ]
  },
  {
   "cell_type": "code",
   "execution_count": null,
   "metadata": {},
   "outputs": [],
   "source": []
  }
 ],
 "metadata": {
  "kernelspec": {
   "display_name": "base",
   "language": "python",
   "name": "python3"
  },
  "language_info": {
   "codemirror_mode": {
    "name": "ipython",
    "version": 3
   },
   "file_extension": ".py",
   "mimetype": "text/x-python",
   "name": "python",
   "nbconvert_exporter": "python",
   "pygments_lexer": "ipython3",
   "version": "3.12.4"
  }
 },
 "nbformat": 4,
 "nbformat_minor": 2
}
